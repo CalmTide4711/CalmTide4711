{
  "nbformat": 4,
  "nbformat_minor": 0,
  "metadata": {
    "colab": {
      "provenance": [],
      "toc_visible": true,
      "authorship_tag": "ABX9TyNTD9IhmtYhCkWtgyvRTyYs",
      "include_colab_link": true
    },
    "kernelspec": {
      "name": "python3",
      "display_name": "Python 3"
    },
    "language_info": {
      "name": "python"
    }
  },
  "cells": [
    {
      "cell_type": "markdown",
      "metadata": {
        "id": "view-in-github",
        "colab_type": "text"
      },
      "source": [
        "<a href=\"https://colab.research.google.com/github/CalmTide4711/CalmTide4711/blob/main/Container_DataType.ipynb\" target=\"_parent\"><img src=\"https://colab.research.google.com/assets/colab-badge.svg\" alt=\"Open In Colab\"/></a>"
      ]
    },
    {
      "cell_type": "code",
      "execution_count": null,
      "metadata": {
        "id": "Sz4LtKSOoO-B"
      },
      "outputs": [],
      "source": []
    },
    {
      "cell_type": "markdown",
      "source": [
        "# Lists"
      ],
      "metadata": {
        "id": "hMBaV1sjoQwX"
      }
    },
    {
      "cell_type": "code",
      "source": [
        "job_skills = ['sql', 'tableau', 'excel']"
      ],
      "metadata": {
        "id": "DyFkarXhoafE"
      },
      "execution_count": 1,
      "outputs": []
    },
    {
      "cell_type": "code",
      "source": [
        "job_skills.append('python')"
      ],
      "metadata": {
        "id": "_jN0jYj-o6SP"
      },
      "execution_count": 2,
      "outputs": []
    },
    {
      "cell_type": "code",
      "source": [
        "job_skills"
      ],
      "metadata": {
        "colab": {
          "base_uri": "https://localhost:8080/"
        },
        "id": "AvVWEdTfpErf",
        "outputId": "c7fadc75-2195-41b6-acba-37998f554e4b"
      },
      "execution_count": 3,
      "outputs": [
        {
          "output_type": "execute_result",
          "data": {
            "text/plain": [
              "['sql', 'tableau', 'excel', 'python']"
            ]
          },
          "metadata": {},
          "execution_count": 3
        }
      ]
    },
    {
      "cell_type": "code",
      "source": [
        "job_skills.remove('excel')"
      ],
      "metadata": {
        "id": "gzPCTpF9pIRo"
      },
      "execution_count": 4,
      "outputs": []
    },
    {
      "cell_type": "code",
      "source": [
        "job_skills"
      ],
      "metadata": {
        "colab": {
          "base_uri": "https://localhost:8080/"
        },
        "id": "H-YA2Q8YpMkf",
        "outputId": "33b53457-4551-4856-d3b0-4a9c0b33ccd7"
      },
      "execution_count": 5,
      "outputs": [
        {
          "output_type": "execute_result",
          "data": {
            "text/plain": [
              "['sql', 'tableau', 'python']"
            ]
          },
          "metadata": {},
          "execution_count": 5
        }
      ]
    },
    {
      "cell_type": "code",
      "source": [
        "len(job_skills)"
      ],
      "metadata": {
        "colab": {
          "base_uri": "https://localhost:8080/"
        },
        "id": "mSf5cpkbplrP",
        "outputId": "dc88abd0-7e4a-4225-dcdd-53bfaba7e965"
      },
      "execution_count": 6,
      "outputs": [
        {
          "output_type": "execute_result",
          "data": {
            "text/plain": [
              "3"
            ]
          },
          "metadata": {},
          "execution_count": 6
        }
      ]
    },
    {
      "cell_type": "code",
      "source": [
        "job_skills.insert(3, 'html')"
      ],
      "metadata": {
        "id": "UTc2-mrepsaa"
      },
      "execution_count": 10,
      "outputs": []
    },
    {
      "cell_type": "code",
      "source": [
        "job_skills"
      ],
      "metadata": {
        "colab": {
          "base_uri": "https://localhost:8080/"
        },
        "id": "od02XKx7p3S5",
        "outputId": "21f3eed8-fa6b-48ff-dd60-323c2a591048"
      },
      "execution_count": 11,
      "outputs": [
        {
          "output_type": "execute_result",
          "data": {
            "text/plain": [
              "['sql', 'tableau', 'python', 'html', 'excel', 'excel']"
            ]
          },
          "metadata": {},
          "execution_count": 11
        }
      ]
    },
    {
      "cell_type": "code",
      "source": [
        "job_skills.remove('excel')"
      ],
      "metadata": {
        "id": "xPOFqWMCqLuL"
      },
      "execution_count": 12,
      "outputs": []
    },
    {
      "cell_type": "code",
      "source": [
        "job_skills"
      ],
      "metadata": {
        "colab": {
          "base_uri": "https://localhost:8080/"
        },
        "id": "idFrnTAfqQs2",
        "outputId": "e97e6a09-c6db-418a-d5fa-68b0975b3f07"
      },
      "execution_count": 13,
      "outputs": [
        {
          "output_type": "execute_result",
          "data": {
            "text/plain": [
              "['sql', 'tableau', 'python', 'html', 'excel']"
            ]
          },
          "metadata": {},
          "execution_count": 13
        }
      ]
    },
    {
      "cell_type": "markdown",
      "source": [
        "# Slicing"
      ],
      "metadata": {
        "id": "eGrmA1H-qapU"
      }
    },
    {
      "cell_type": "code",
      "source": [
        "job_skills = ['sql', 'tableau', 'python']"
      ],
      "metadata": {
        "id": "xuMbcgtTqdjV"
      },
      "execution_count": 14,
      "outputs": []
    },
    {
      "cell_type": "code",
      "source": [
        "job_skills[0:3]"
      ],
      "metadata": {
        "colab": {
          "base_uri": "https://localhost:8080/"
        },
        "id": "a1ZovpH2rFru",
        "outputId": "1c0b4413-d85e-4e85-ab61-45621885d095"
      },
      "execution_count": 17,
      "outputs": [
        {
          "output_type": "execute_result",
          "data": {
            "text/plain": [
              "['sql', 'tableau', 'python']"
            ]
          },
          "metadata": {},
          "execution_count": 17
        }
      ]
    },
    {
      "cell_type": "code",
      "source": [
        "job_skills[:]"
      ],
      "metadata": {
        "colab": {
          "base_uri": "https://localhost:8080/"
        },
        "id": "LcAp_5ojrfCZ",
        "outputId": "81184f17-4d01-4ade-a1de-a452ecb16f4a"
      },
      "execution_count": 18,
      "outputs": [
        {
          "output_type": "execute_result",
          "data": {
            "text/plain": [
              "['sql', 'tableau', 'python']"
            ]
          },
          "metadata": {},
          "execution_count": 18
        }
      ]
    },
    {
      "cell_type": "markdown",
      "source": [
        "# Unpacking"
      ],
      "metadata": {
        "id": "oDuKwTFvs5kx"
      }
    },
    {
      "cell_type": "code",
      "source": [
        "job_skills = ['Python', 'SQSL', 'R']"
      ],
      "metadata": {
        "id": "4Roc6daFs97B"
      },
      "execution_count": 20,
      "outputs": []
    },
    {
      "cell_type": "code",
      "source": [
        "skill1, skill2, skill3 = job_skills"
      ],
      "metadata": {
        "id": "ru5QHM-UtMz6"
      },
      "execution_count": 21,
      "outputs": []
    },
    {
      "cell_type": "code",
      "source": [
        "print(skill1)\n",
        "print(skill2)\n",
        "print(skill3)"
      ],
      "metadata": {
        "colab": {
          "base_uri": "https://localhost:8080/"
        },
        "id": "inEgxTlJtT2I",
        "outputId": "b424c8d1-770c-4f48-adc2-f687fa9ba2d7"
      },
      "execution_count": 22,
      "outputs": [
        {
          "output_type": "stream",
          "name": "stdout",
          "text": [
            "Python\n",
            "SQSL\n",
            "R\n"
          ]
        }
      ]
    },
    {
      "cell_type": "markdown",
      "source": [
        "#**Dictionaries*"
      ],
      "metadata": {
        "id": "jk0qUWhSufFm"
      }
    },
    {
      "cell_type": "code",
      "source": [
        "job_type_skills = {'database': 'postgres',\n",
        "                   'language': 'python',\n",
        "                   'library':'pandas'}"
      ],
      "metadata": {
        "id": "tRLXu5sVut1R"
      },
      "execution_count": 5,
      "outputs": []
    },
    {
      "cell_type": "markdown",
      "source": [
        "\n",
        "\n",
        "```\n",
        "# This is formatted as code\n",
        "```\n",
        "\n",
        "job_type_skills"
      ],
      "metadata": {
        "id": "y2own15Z3YPs"
      }
    },
    {
      "cell_type": "code",
      "source": [
        "job_type_skills['library']"
      ],
      "metadata": {
        "colab": {
          "base_uri": "https://localhost:8080/",
          "height": 36
        },
        "id": "TeYs0Koj4E3D",
        "outputId": "8a831e59-5b42-4a9c-ee6a-d6e280d60a4b"
      },
      "execution_count": 9,
      "outputs": [
        {
          "output_type": "execute_result",
          "data": {
            "text/plain": [
              "'pandas'"
            ],
            "application/vnd.google.colaboratory.intrinsic+json": {
              "type": "string"
            }
          },
          "metadata": {},
          "execution_count": 9
        }
      ]
    },
    {
      "cell_type": "code",
      "source": [
        "job_type_skills.keys()"
      ],
      "metadata": {
        "colab": {
          "base_uri": "https://localhost:8080/"
        },
        "id": "uDLFLGbH4yq2",
        "outputId": "021a499a-eef6-4626-faf7-ac299c6e4ca0"
      },
      "execution_count": 10,
      "outputs": [
        {
          "output_type": "execute_result",
          "data": {
            "text/plain": [
              "dict_keys(['database', 'language', 'library'])"
            ]
          },
          "metadata": {},
          "execution_count": 10
        }
      ]
    },
    {
      "cell_type": "code",
      "source": [
        "job_type_skills.values()"
      ],
      "metadata": {
        "colab": {
          "base_uri": "https://localhost:8080/"
        },
        "id": "MQOPUkNj5Jv1",
        "outputId": "b3f9585c-6ad3-4e91-ba95-83b394d02359"
      },
      "execution_count": 11,
      "outputs": [
        {
          "output_type": "execute_result",
          "data": {
            "text/plain": [
              "dict_values(['postgres', 'python', 'pandas'])"
            ]
          },
          "metadata": {},
          "execution_count": 11
        }
      ]
    },
    {
      "cell_type": "code",
      "source": [
        "job_type_skills.pop('library')"
      ],
      "metadata": {
        "colab": {
          "base_uri": "https://localhost:8080/",
          "height": 36
        },
        "id": "5lM3CJBH51t7",
        "outputId": "5c876c1d-366e-404e-b7a5-1c93cb6484f9"
      },
      "execution_count": 12,
      "outputs": [
        {
          "output_type": "execute_result",
          "data": {
            "text/plain": [
              "'pandas'"
            ],
            "application/vnd.google.colaboratory.intrinsic+json": {
              "type": "string"
            }
          },
          "metadata": {},
          "execution_count": 12
        }
      ]
    },
    {
      "cell_type": "markdown",
      "source": [
        "job_type_skills"
      ],
      "metadata": {
        "id": "Tb2BkScO59Su"
      }
    },
    {
      "cell_type": "code",
      "source": [
        "job_type_skills.update({'cloud': 'google cloud'})"
      ],
      "metadata": {
        "id": "xoUuc2sA6GDg"
      },
      "execution_count": 14,
      "outputs": []
    },
    {
      "cell_type": "code",
      "source": [
        "job_type_skills\n"
      ],
      "metadata": {
        "colab": {
          "base_uri": "https://localhost:8080/"
        },
        "id": "dQ7xt_Wl6aCN",
        "outputId": "29f0d7b2-3b90-4743-8e18-a138a9f77e84"
      },
      "execution_count": 15,
      "outputs": [
        {
          "output_type": "execute_result",
          "data": {
            "text/plain": [
              "{'database': 'postgres', 'language': 'python', 'cloud': 'google cloud'}"
            ]
          },
          "metadata": {},
          "execution_count": 15
        }
      ]
    },
    {
      "cell_type": "code",
      "source": [
        "job_type_skills['version_control'] = 'git'"
      ],
      "metadata": {
        "id": "uo6mFH5A7x7Y"
      },
      "execution_count": 16,
      "outputs": []
    },
    {
      "cell_type": "code",
      "source": [
        "job_type_skills"
      ],
      "metadata": {
        "colab": {
          "base_uri": "https://localhost:8080/"
        },
        "id": "QTyyviuL79-g",
        "outputId": "4acd7783-841f-42c6-bf7e-a8e13034c123"
      },
      "execution_count": 17,
      "outputs": [
        {
          "output_type": "execute_result",
          "data": {
            "text/plain": [
              "{'database': 'postgres',\n",
              " 'language': 'python',\n",
              " 'cloud': 'google cloud',\n",
              " 'version_control': 'git'}"
            ]
          },
          "metadata": {},
          "execution_count": 17
        }
      ]
    },
    {
      "cell_type": "markdown",
      "source": [
        "# Set\n"
      ],
      "metadata": {
        "id": "SFJXS1-Z8pDj"
      }
    },
    {
      "cell_type": "markdown",
      "source": [
        "Sets are desined for unique items so, they don't allow unique value\n",
        "they are unordered and have no index\n"
      ],
      "metadata": {
        "id": "LamJsc6_82wf"
      }
    },
    {
      "cell_type": "code",
      "source": [
        "job_skills = {'tableau', 'sql', 'python', 'R'}"
      ],
      "metadata": {
        "id": "eo0Dq4ej8se7"
      },
      "execution_count": 18,
      "outputs": []
    },
    {
      "cell_type": "code",
      "source": [
        "job_skills"
      ],
      "metadata": {
        "colab": {
          "base_uri": "https://localhost:8080/"
        },
        "id": "qkvo7TKb91A9",
        "outputId": "47106607-c2af-46fb-8a52-5afe53cdd7ba"
      },
      "execution_count": 20,
      "outputs": [
        {
          "output_type": "execute_result",
          "data": {
            "text/plain": [
              "{'R', 'python', 'sql', 'tableau'}"
            ]
          },
          "metadata": {},
          "execution_count": 20
        }
      ]
    },
    {
      "cell_type": "code",
      "source": [],
      "metadata": {
        "id": "b4JCQ6gx-EXs"
      },
      "execution_count": null,
      "outputs": []
    },
    {
      "cell_type": "markdown",
      "source": [
        "# Tuples"
      ],
      "metadata": {
        "id": "qgEGVoni-xJC"
      }
    },
    {
      "cell_type": "code",
      "source": [
        "jamiu_skills = ('Quran', 'Geodesy', 'GIS', \"Engineering\", 'Pipeline')"
      ],
      "metadata": {
        "id": "UqU298jL-0C6"
      },
      "execution_count": 21,
      "outputs": []
    },
    {
      "cell_type": "code",
      "source": [
        "jamiu_skills"
      ],
      "metadata": {
        "colab": {
          "base_uri": "https://localhost:8080/"
        },
        "id": "Q9b8LpKK_fQi",
        "outputId": "746ffeea-db66-4497-b8a6-d9b948fc4c20"
      },
      "execution_count": 23,
      "outputs": [
        {
          "output_type": "execute_result",
          "data": {
            "text/plain": [
              "('Quran', 'Geodesy', 'GIS', 'Engineering', 'Pipeline')"
            ]
          },
          "metadata": {},
          "execution_count": 23
        }
      ]
    },
    {
      "cell_type": "code",
      "source": [
        "new_skill = ('Programming', 'Driving')"
      ],
      "metadata": {
        "id": "mpz7nIMo_2St"
      },
      "execution_count": 24,
      "outputs": []
    },
    {
      "cell_type": "code",
      "source": [
        "jamiu_skills += new_skill"
      ],
      "metadata": {
        "id": "8Z3wDk4c__pg"
      },
      "execution_count": 25,
      "outputs": []
    },
    {
      "cell_type": "code",
      "source": [
        "jamiu_skills"
      ],
      "metadata": {
        "colab": {
          "base_uri": "https://localhost:8080/"
        },
        "id": "0pju8OW2A14K",
        "outputId": "fc69dc69-4799-400e-c6c6-e6c73eb8fcf2"
      },
      "execution_count": 26,
      "outputs": [
        {
          "output_type": "execute_result",
          "data": {
            "text/plain": [
              "('Quran',\n",
              " 'Geodesy',\n",
              " 'GIS',\n",
              " 'Engineering',\n",
              " 'Pipeline',\n",
              " 'Programming',\n",
              " 'Driving')"
            ]
          },
          "metadata": {},
          "execution_count": 26
        }
      ]
    }
  ]
}